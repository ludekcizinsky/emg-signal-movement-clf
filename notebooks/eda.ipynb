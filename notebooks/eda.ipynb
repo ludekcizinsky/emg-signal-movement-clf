{
 "cells": [
  {
   "cell_type": "markdown",
   "metadata": {},
   "source": [
    "## Explorative Data Analysis"
   ]
  },
  {
   "cell_type": "markdown",
   "metadata": {},
   "source": [
    "### Setup\n",
    "\n",
    "---"
   ]
  },
  {
   "cell_type": "code",
   "execution_count": 4,
   "metadata": {},
   "outputs": [],
   "source": [
    "%load_ext autoreload\n",
    "%autoreload 2"
   ]
  },
  {
   "cell_type": "code",
   "execution_count": 66,
   "metadata": {},
   "outputs": [],
   "source": [
    "from matplotlib import pyplot as plt\n",
    "import seaborn as sns\n",
    "\n",
    "import numpy as np\n",
    "import pandas as pd\n",
    "\n",
    "import os\n",
    "from tqdm import tqdm\n",
    "import sys\n",
    "sys.path.insert(0, '../')\n",
    "\n",
    "from src import utils"
   ]
  },
  {
   "cell_type": "code",
   "execution_count": 73,
   "metadata": {},
   "outputs": [],
   "source": [
    "DATA_ROOT = os.path.join(\"..\", \"data\")\n",
    "NINAPRO_ROOT = os.path.join(\"..\", \"data\", \"ninapro\")\n",
    "SAMPLING_EMG_RATE = 100"
   ]
  },
  {
   "cell_type": "markdown",
   "metadata": {},
   "source": [
    "### Load Data and Preprocess Data\n",
    "\n",
    "---"
   ]
  },
  {
   "cell_type": "markdown",
   "metadata": {},
   "source": [
    "We are using [NinaPro](http://ninaweb.hevs.ch/) dataset for this project. The dataset is available in the `data` folder. The dataset includes sEMG and kinematic data from 27 intact subjects while repeating 52 hand movements plus the rest position. For the scope of this project, we will only use the sEMG data.\n",
    "\n",
    "The sEMG data were acquired using 10 Otto Bock MyoBock 13E200 electrodes. The dataset includes 10 repetitions of 52 different movements. The subjects are asked to repeat movements which were shown as movies on the screen of a laptop. The experiment is divided in three exercises:\n",
    "\n",
    "1. Basic movements of the fingers.\n",
    "2. Isometric, isotonic hand configurations and basic wrist movements.\n",
    "3. Grasping and functional movements.\n",
    "\n",
    "Therefore, for each exercise, for each subject, the database contains one matlab file with synchronized variables. The variables included in the matlab files are:\n",
    "- Subject: subject number.\n",
    "- Exercise: exercise number.\n",
    "- Emg (10 columns): sEMG signal. Columns 1-8 are the electrodes equally spaced around the forearm at the height of the radio humeral joint. Columns 9 and 10 contain signals from the main activity spot of the muscles flexor and extensor digitorum superficialis.\n",
    "- Stimulus (1 column): the movement repeated by the subject, according to the displayed movie.\n",
    "- Restimulus (1 column): the movement repeated by the subject, but with the duration of the movement label refined a-posteriori in order to better correspond to the real movement. \n",
    "- Repetition (1 column): repetition of the stimulus.\n",
    "- Rerepetition (1 column): repetition of restimulus."
   ]
  },
  {
   "cell_type": "markdown",
   "metadata": {},
   "source": [
    "Let's start with the overview of the subjects:"
   ]
  },
  {
   "cell_type": "code",
   "execution_count": 37,
   "metadata": {},
   "outputs": [
    {
     "data": {
      "text/html": [
       "<div>\n",
       "<style scoped>\n",
       "    .dataframe tbody tr th:only-of-type {\n",
       "        vertical-align: middle;\n",
       "    }\n",
       "\n",
       "    .dataframe tbody tr th {\n",
       "        vertical-align: top;\n",
       "    }\n",
       "\n",
       "    .dataframe thead th {\n",
       "        text-align: right;\n",
       "    }\n",
       "</style>\n",
       "<table border=\"1\" class=\"dataframe\">\n",
       "  <thead>\n",
       "    <tr style=\"text-align: right;\">\n",
       "      <th></th>\n",
       "      <th>Subject</th>\n",
       "      <th>Hand</th>\n",
       "      <th>Handedness</th>\n",
       "      <th>Gender</th>\n",
       "      <th>Age</th>\n",
       "      <th>Height</th>\n",
       "      <th>Weight</th>\n",
       "    </tr>\n",
       "  </thead>\n",
       "  <tbody>\n",
       "    <tr>\n",
       "      <th>0</th>\n",
       "      <td>1</td>\n",
       "      <td>Intact</td>\n",
       "      <td>Right</td>\n",
       "      <td>Male</td>\n",
       "      <td>31</td>\n",
       "      <td>170</td>\n",
       "      <td>75</td>\n",
       "    </tr>\n",
       "    <tr>\n",
       "      <th>1</th>\n",
       "      <td>2</td>\n",
       "      <td>Intact</td>\n",
       "      <td>Right</td>\n",
       "      <td>Male</td>\n",
       "      <td>27</td>\n",
       "      <td>170</td>\n",
       "      <td>62</td>\n",
       "    </tr>\n",
       "    <tr>\n",
       "      <th>2</th>\n",
       "      <td>3</td>\n",
       "      <td>Intact</td>\n",
       "      <td>Right</td>\n",
       "      <td>Male</td>\n",
       "      <td>22</td>\n",
       "      <td>180</td>\n",
       "      <td>85</td>\n",
       "    </tr>\n",
       "    <tr>\n",
       "      <th>3</th>\n",
       "      <td>4</td>\n",
       "      <td>Intact</td>\n",
       "      <td>Right</td>\n",
       "      <td>Male</td>\n",
       "      <td>27</td>\n",
       "      <td>183</td>\n",
       "      <td>95</td>\n",
       "    </tr>\n",
       "    <tr>\n",
       "      <th>4</th>\n",
       "      <td>5</td>\n",
       "      <td>Intact</td>\n",
       "      <td>Right</td>\n",
       "      <td>Male</td>\n",
       "      <td>27</td>\n",
       "      <td>178</td>\n",
       "      <td>75</td>\n",
       "    </tr>\n",
       "  </tbody>\n",
       "</table>\n",
       "</div>"
      ],
      "text/plain": [
       "   Subject    Hand Handedness Gender  Age  Height  Weight\n",
       "0        1  Intact      Right   Male   31     170      75\n",
       "1        2  Intact      Right   Male   27     170      62\n",
       "2        3  Intact      Right   Male   22     180      85\n",
       "3        4  Intact      Right   Male   27     183      95\n",
       "4        5  Intact      Right   Male   27     178      75"
      ]
     },
     "execution_count": 37,
     "metadata": {},
     "output_type": "execute_result"
    }
   ],
   "source": [
    "subjects = pd.read_csv(os.path.join(NINAPRO_ROOT, \"subjects.csv\"))\n",
    "subjects.head()"
   ]
  },
  {
   "cell_type": "markdown",
   "metadata": {},
   "source": [
    "Now, we will pefrom some basic data exploration to get a better understanding of the subjects:"
   ]
  },
  {
   "cell_type": "code",
   "execution_count": 22,
   "metadata": {},
   "outputs": [
    {
     "name": "stdout",
     "output_type": "stream",
     "text": [
      "ℹ️ There are 20 males and 7 females in the dataset.\n",
      "ℹ️ There are 25 left-handed and 2 right-handed subjects in the dataset.\n"
     ]
    },
    {
     "data": {
      "text/html": [
       "<div>\n",
       "<style scoped>\n",
       "    .dataframe tbody tr th:only-of-type {\n",
       "        vertical-align: middle;\n",
       "    }\n",
       "\n",
       "    .dataframe tbody tr th {\n",
       "        vertical-align: top;\n",
       "    }\n",
       "\n",
       "    .dataframe thead th {\n",
       "        text-align: right;\n",
       "    }\n",
       "</style>\n",
       "<table border=\"1\" class=\"dataframe\">\n",
       "  <thead>\n",
       "    <tr style=\"text-align: right;\">\n",
       "      <th></th>\n",
       "      <th>count</th>\n",
       "      <th>mean</th>\n",
       "      <th>std</th>\n",
       "      <th>min</th>\n",
       "      <th>25%</th>\n",
       "      <th>50%</th>\n",
       "      <th>75%</th>\n",
       "      <th>max</th>\n",
       "    </tr>\n",
       "  </thead>\n",
       "  <tbody>\n",
       "    <tr>\n",
       "      <th>Age</th>\n",
       "      <td>27.0</td>\n",
       "      <td>28.592593</td>\n",
       "      <td>4.235920</td>\n",
       "      <td>22.0</td>\n",
       "      <td>26.5</td>\n",
       "      <td>28.0</td>\n",
       "      <td>30.0</td>\n",
       "      <td>40.0</td>\n",
       "    </tr>\n",
       "    <tr>\n",
       "      <th>Height</th>\n",
       "      <td>27.0</td>\n",
       "      <td>173.148148</td>\n",
       "      <td>8.263468</td>\n",
       "      <td>155.0</td>\n",
       "      <td>167.5</td>\n",
       "      <td>173.0</td>\n",
       "      <td>180.0</td>\n",
       "      <td>185.0</td>\n",
       "    </tr>\n",
       "    <tr>\n",
       "      <th>Weight</th>\n",
       "      <td>27.0</td>\n",
       "      <td>69.407407</td>\n",
       "      <td>12.530760</td>\n",
       "      <td>48.0</td>\n",
       "      <td>61.0</td>\n",
       "      <td>67.0</td>\n",
       "      <td>75.5</td>\n",
       "      <td>100.0</td>\n",
       "    </tr>\n",
       "  </tbody>\n",
       "</table>\n",
       "</div>"
      ],
      "text/plain": [
       "        count        mean        std    min    25%    50%    75%    max\n",
       "Age      27.0   28.592593   4.235920   22.0   26.5   28.0   30.0   40.0\n",
       "Height   27.0  173.148148   8.263468  155.0  167.5  173.0  180.0  185.0\n",
       "Weight   27.0   69.407407  12.530760   48.0   61.0   67.0   75.5  100.0"
      ]
     },
     "execution_count": 22,
     "metadata": {},
     "output_type": "execute_result"
    }
   ],
   "source": [
    "male_n, female_n = subjects.Gender.value_counts()\n",
    "print(f\"ℹ️ There are {male_n} males and {female_n} females in the dataset.\")\n",
    "\n",
    "left, right = subjects['Handedness'].value_counts()\n",
    "print(f\"ℹ️ There are {left} left-handed and {right} right-handed subjects in the dataset.\")\n",
    "\n",
    "pd.DataFrame([subjects['Age'].describe(), subjects['Height'].describe(), subjects['Weight'].describe()])"
   ]
  },
  {
   "cell_type": "markdown",
   "metadata": {},
   "source": [
    "To make our life easier, we will parse the data for each exercise into a numpy array in a following fashion:\n",
    "\n",
    "1. For each subject we load the emg data and corresponding stimulus and repetiion labels. These come as 2D arrays where each row corresponds to a timestamp. Therefore, in each row we will have info about the raw emg signal, stimilus, repetition and subject id.\n",
    "\n",
    "2. We will then concatenate all the subjects into a single numpy array. In other words, we will stack the 2d arrays on top of each other. This way, we can later choose easily which subjects to use for training and which for testing.\n",
    "\n",
    "If needed in the later stage, we can also merge the data from all three exercises into a single numpy array. But for the start, it is easier to try training the model for recognizing the movements from each exercise separately."
   ]
  },
  {
   "cell_type": "code",
   "execution_count": 61,
   "metadata": {},
   "outputs": [
    {
     "name": "stdout",
     "output_type": "stream",
     "text": [
      "ℹ️ Parsing exercise 1\n"
     ]
    },
    {
     "name": "stderr",
     "output_type": "stream",
     "text": [
      "Loading data for exercise 1: 100%|██████████| 27/27 [00:01<00:00, 14.16it/s]\n"
     ]
    },
    {
     "name": "stdout",
     "output_type": "stream",
     "text": [
      "ℹ️ Exercise 1 has shape (2731393, 13)\n",
      "✅ Successfully saved to ../data/exercise_1.npy.\n",
      "\n",
      "ℹ️ Parsing exercise 2\n"
     ]
    },
    {
     "name": "stderr",
     "output_type": "stream",
     "text": [
      "Loading data for exercise 2: 100%|██████████| 27/27 [00:03<00:00,  8.86it/s]\n"
     ]
    },
    {
     "name": "stdout",
     "output_type": "stream",
     "text": [
      "ℹ️ Exercise 2 has shape (3868568, 13)\n",
      "✅ Successfully saved to ../data/exercise_2.npy.\n",
      "\n",
      "ℹ️ Parsing exercise 3\n"
     ]
    },
    {
     "name": "stderr",
     "output_type": "stream",
     "text": [
      "Loading data for exercise 3: 100%|██████████| 27/27 [00:04<00:00,  6.01it/s]\n"
     ]
    },
    {
     "name": "stdout",
     "output_type": "stream",
     "text": [
      "ℹ️ Exercise 3 has shape (5953650, 13)\n",
      "✅ Successfully saved to ../data/exercise_3.npy.\n",
      "\n"
     ]
    }
   ],
   "source": [
    "subject_ids = subjects['Subject'].unique().tolist()\n",
    "exercise_ids = [1, 2, 3]\n",
    "\n",
    "for ex in exercise_ids:\n",
    "    print(f\"ℹ️ Parsing exercise {ex}\")\n",
    "    exercise = utils.parse_exercise_data(NINAPRO_ROOT, subject_ids, ex)\n",
    "    print(f\"ℹ️ Exercise {ex} has shape {exercise.shape}\")\n",
    "\n",
    "    save_path = os.path.join(DATA_ROOT, f\"exercise_{ex}.npy\")\n",
    "    np.save(save_path, exercise)\n",
    "    print(f\"✅ Successfully saved to {save_path}.\\n\")"
   ]
  },
  {
   "cell_type": "markdown",
   "metadata": {},
   "source": [
    "Let's check the sizes of the extracted numpy arrays:"
   ]
  },
  {
   "cell_type": "code",
   "execution_count": 67,
   "metadata": {},
   "outputs": [
    {
     "name": "stdout",
     "output_type": "stream",
     "text": [
      "602M\t../data/exercise_3.npy\n"
     ]
    },
    {
     "name": "stdout",
     "output_type": "stream",
     "text": [
      "392M\t../data/exercise_2.npy\n",
      "280M\t../data/exercise_1.npy\n"
     ]
    }
   ],
   "source": [
    "!du -h ../data/exercise_1.npy\n",
    "!du -h ../data/exercise_2.npy\n",
    "!du -h ../data/exercise_3.npy"
   ]
  },
  {
   "cell_type": "markdown",
   "metadata": {},
   "source": [
    "### Inspect Exercise Data\n",
    "\n",
    "---"
   ]
  },
  {
   "cell_type": "markdown",
   "metadata": {},
   "source": [
    "Start by loading:"
   ]
  },
  {
   "cell_type": "code",
   "execution_count": 72,
   "metadata": {},
   "outputs": [
    {
     "name": "stdout",
     "output_type": "stream",
     "text": [
      "✅ Exercise 1 loaded, it has 2731393 rows and 13 columns.\n",
      "✅ Exercise 2 loaded, it has 3868568 rows and 13 columns.\n",
      "✅ Exercise 3 loaded, it has 5953650 rows and 13 columns.\n"
     ]
    }
   ],
   "source": [
    "exercises = []\n",
    "for ex in exercise_ids:\n",
    "    exercise = np.load(os.path.join(DATA_ROOT, f\"exercise_{ex}.npy\"))\n",
    "    print(f\"✅ Exercise {ex} loaded, it has {exercise.shape[0]} rows and {exercise.shape[1]} columns.\")\n",
    "    exercises.append(exercise)"
   ]
  },
  {
   "cell_type": "markdown",
   "metadata": {},
   "source": [
    "Then, let's do some basic data exploration:"
   ]
  },
  {
   "cell_type": "code",
   "execution_count": 83,
   "metadata": {},
   "outputs": [
    {
     "name": "stdout",
     "output_type": "stream",
     "text": [
      "ℹ️ Exercise 1 has 27 subjects, 101162 samples per subject, 16.86 minutes per subject, 455.23 minutes in total, 12 unique stimuli and 11 unique repetitions.\n",
      "ℹ️ Exercise 2 has 27 subjects, 143280 samples per subject, 23.88 minutes per subject, 644.76 minutes in total, 17 unique stimuli and 11 unique repetitions.\n",
      "ℹ️ Exercise 3 has 27 subjects, 220505 samples per subject, 36.75 minutes per subject, 992.27 minutes in total, 23 unique stimuli and 11 unique repetitions.\n",
      "✅ There are 52 unique stimuli in total.\n",
      "✅ Each exercise has 10 repetitions per stimulus.\n"
     ]
    }
   ],
   "source": [
    "total_stimuli = 0\n",
    "for i, exercise in enumerate(exercises):\n",
    "\n",
    "    # Number of samples per subject\n",
    "    samples_per_subject = exercise.shape[0] // len(subject_ids)\n",
    "\n",
    "    # Number of minutes per subject\n",
    "    minutes_per_subject = samples_per_subject / SAMPLING_EMG_RATE / 60\n",
    "\n",
    "    # Number of minutes in total\n",
    "    minutes_total = minutes_per_subject * len(subject_ids)\n",
    "\n",
    "    # Unique stimulus and repetitions\n",
    "    stimuli, rep = exercise[:, 10], exercise[:, 11]\n",
    "    stimuli_unique = np.unique(stimuli)\n",
    "    total_stimuli += len(stimuli_unique) - 1 # -1 because 0 is not a stimulus but a rest\n",
    "    rep_unique = np.unique(rep)\n",
    "    assert (len(rep_unique) - 1) == 10, \"❌ There should be 10 repetitions per stimulus.\" # -1 because 0 is not a repetition but a rest\n",
    "\n",
    "    print(f\"ℹ️ Exercise {i+1} has {len(subject_ids)} subjects, {samples_per_subject} samples per subject, {minutes_per_subject:.2f} minutes per subject, {minutes_total:.2f} minutes in total, {len(stimuli_unique) - 1} unique stimuli and {len(rep_unique)} unique repetitions.\")\n",
    "\n",
    "assert total_stimuli == 52, \"❌There should be 52 unique stimuli in total.\"\n",
    "print(\"✅ There are 52 unique stimuli in total.\")\n",
    "print(\"✅ Each exercise has 10 repetitions per stimulus.\")"
   ]
  }
 ],
 "metadata": {
  "kernelspec": {
   "display_name": "cs502",
   "language": "python",
   "name": "python3"
  },
  "language_info": {
   "codemirror_mode": {
    "name": "ipython",
    "version": 3
   },
   "file_extension": ".py",
   "mimetype": "text/x-python",
   "name": "python",
   "nbconvert_exporter": "python",
   "pygments_lexer": "ipython3",
   "version": "3.10.13"
  }
 },
 "nbformat": 4,
 "nbformat_minor": 2
}
