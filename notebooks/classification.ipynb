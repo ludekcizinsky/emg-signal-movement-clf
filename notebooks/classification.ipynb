{
 "cells": [
  {
   "cell_type": "markdown",
   "metadata": {},
   "source": [
    "## Classification of Hand Gestures\n",
    "\n",
    "In this notebook, we train and evaluate different classification models for the task of hand gesture classification. We use the data generated in the previous notebook."
   ]
  },
  {
   "cell_type": "markdown",
   "metadata": {},
   "source": [
    "### Setup\n",
    "\n",
    "---"
   ]
  },
  {
   "cell_type": "markdown",
   "metadata": {},
   "source": [
    "To reload custom scripts automatically:"
   ]
  },
  {
   "cell_type": "code",
   "execution_count": 1,
   "metadata": {},
   "outputs": [],
   "source": [
    "%load_ext autoreload\n",
    "%autoreload 2"
   ]
  },
  {
   "cell_type": "markdown",
   "metadata": {},
   "source": [
    "Define dependencies:"
   ]
  },
  {
   "cell_type": "code",
   "execution_count": 2,
   "metadata": {},
   "outputs": [],
   "source": [
    "from matplotlib import pyplot as plt\n",
    "import matplotlib.patches as mpatches\n",
    "import seaborn as sns\n",
    "\n",
    "import numpy as np\n",
    "import pandas as pd\n",
    "from scipy import signal\n",
    "\n",
    "# Modelling\n",
    "from sklearn.utils import shuffle\n",
    "from sklearn.metrics import accuracy_score\n",
    "from sklearn.pipeline import Pipeline\n",
    "from sklearn.preprocessing import StandardScaler\n",
    "from sklearn.svm import SVC\n",
    "from sklearn.linear_model import SGDClassifier\n",
    "from sklearn.ensemble import RandomForestClassifier\n",
    "from sklearn.neighbors import KNeighborsClassifier\n",
    "from sklearn.decomposition import PCA\n",
    "from sklearn.inspection import permutation_importance\n",
    "from sklearn.model_selection import GridSearchCV\n",
    "from sklearn.model_selection import cross_val_score, StratifiedKFold\n",
    "\n",
    "\n",
    "\n",
    "import os\n",
    "import time\n",
    "import copy\n",
    "import pickle\n",
    "from tqdm import tqdm\n",
    "import random\n",
    "import sys\n",
    "sys.path.insert(0, '../')\n",
    "\n",
    "# Ignore warnings\n",
    "import warnings\n",
    "warnings.filterwarnings('ignore')\n",
    "\n",
    "from src import utils"
   ]
  },
  {
   "cell_type": "markdown",
   "metadata": {},
   "source": [
    "Define global variables:"
   ]
  },
  {
   "cell_type": "code",
   "execution_count": 3,
   "metadata": {},
   "outputs": [],
   "source": [
    "DATA_ROOT = os.path.join(\"..\", \"data\")\n",
    "NINAPRO_ROOT = os.path.join(\"..\", \"data\", \"ninapro\")\n",
    "SAMPLING_EMG_RATE = 100\n",
    "USE_REP = False # Wther to use the repetition as a window or not"
   ]
  },
  {
   "cell_type": "markdown",
   "metadata": {},
   "source": [
    "### Load the data preprocessed in the previous notebook\n",
    "\n",
    "---"
   ]
  },
  {
   "cell_type": "markdown",
   "metadata": {},
   "source": [
    "Before loading the data, make sure you downloaded them ([link](https://drive.google.com/file/d/1tz8tb6rruNvnlBkwDc80aT7D8jAXvwkF/view?usp=sharing)) and placed them into the data folder! \n",
    "\n",
    "We start by loading the data preprocessed in the previous notebook."
   ]
  },
  {
   "cell_type": "code",
   "execution_count": 4,
   "metadata": {},
   "outputs": [
    {
     "name": "stdout",
     "output_type": "stream",
     "text": [
      "✅ Successfully loaded data, there are 27 subjects.\n"
     ]
    }
   ],
   "source": [
    "filename = \"exercise_1_wind_processed.pkl\" if USE_REP else \"exercise_1_processed.pkl\"\n",
    "with open(os.path.join(DATA_ROOT, filename), 'rb') as file:\n",
    "    subjects_features = pickle.load(file)\n",
    "\n",
    "print(\"✅ Successfully loaded data, there are {} subjects.\".format(len(subjects_features)))"
   ]
  },
  {
   "cell_type": "markdown",
   "metadata": {},
   "source": [
    "Now, let's check what we get for instance for first subject:"
   ]
  },
  {
   "cell_type": "code",
   "execution_count": 5,
   "metadata": {},
   "outputs": [
    {
     "name": "stdout",
     "output_type": "stream",
     "text": [
      "ℹ️ Number of windows: 2003 (train), 1242 (val), 778 (test)\n",
      "ℹ️ All have 100 features.\n"
     ]
    }
   ],
   "source": [
    "# Get the data for the first subject\n",
    "X_train, y_train, X_val, y_val, X_test, y_test = subjects_features[1]\n",
    "\n",
    "# Print the shapes of the data\n",
    "print(f\"ℹ️ Number of windows: {X_train.shape[0]} (train), {X_val.shape[0]} (val), {X_test.shape[0]} (test)\")\n",
    "print(f\"ℹ️ All have {X_train.shape[1]} features.\")"
   ]
  },
  {
   "cell_type": "markdown",
   "metadata": {},
   "source": [
    "### Train and Eval the Models - train and eval on the same subject\n",
    "\n",
    "---\n",
    "\n",
    "In this section, we try to train and then evaluate the model on the data from 10 subjects. Note that these subjeocts will remain same for training as well as validation. We will train separate models for each subject and then evaluate them on the test data of the same subject."
   ]
  },
  {
   "cell_type": "code",
   "execution_count": 54,
   "metadata": {},
   "outputs": [],
   "source": [
    "# Set the random seed\n",
    "np.random.seed(42)\n",
    "\n",
    "# Select randmly 10 subjects\n",
    "selected_subjects = np.random.choice(list(subjects_features.keys()), 10, replace=False)\n",
    "\n",
    "# Collect the data for the selected subjects\n",
    "selected = dict()\n",
    "for subject in selected_subjects:\n",
    "    # Get the data for the subject\n",
    "    X_train, y_train, X_val, y_val, X_test, y_test = subjects_features[subject]\n",
    "\n",
    "    # Shuffle the data\n",
    "    X_train, y_train = shuffle(X_train, y_train, random_state=42)\n",
    "\n",
    "    # Add the data to the dictionary\n",
    "    selected[subject] = (X_train, y_train, X_val, y_val, X_test, y_test)"
   ]
  },
  {
   "cell_type": "markdown",
   "metadata": {},
   "source": [
    "Next, we define our models to be trained:"
   ]
  },
  {
   "cell_type": "code",
   "execution_count": 55,
   "metadata": {},
   "outputs": [],
   "source": [
    "# Logistic regression optimised via SGD \n",
    "lr = Pipeline([\n",
    "    ('scaler', StandardScaler()),\n",
    "    ('logistic regression', SGDClassifier(loss=\"log_loss\", penalty=\"l2\", max_iter=100, warm_start=False))\n",
    "])\n",
    "\n",
    "# SVM with RBF kernel\n",
    "svc = Pipeline([\n",
    "    ('scaler', StandardScaler()),\n",
    "    ('svc', SVC(kernel='rbf', C=1, gamma=1e-4))\n",
    "])\n",
    "\n",
    "# K nearest neighbours\n",
    "knn = Pipeline([\n",
    "    ('scaler', StandardScaler()), \n",
    "    ('knn', KNeighborsClassifier(n_neighbors=5))\n",
    "])\n",
    "\n",
    "# Random forest\n",
    "rf = Pipeline([\n",
    "    ('scaler', StandardScaler()),  \n",
    "    ('rf', RandomForestClassifier(n_estimators=100, max_depth=10, warm_start=False))\n",
    "])\n",
    "\n",
    "\n",
    "# Collect the models in a dictionary\n",
    "models = {\n",
    "    \"Logistic regression\": lr,\n",
    "    \"SVM\": svc,\n",
    "    \"KNN\": knn,\n",
    "    \"Random forest\": rf,\n",
    "}"
   ]
  },
  {
   "cell_type": "markdown",
   "metadata": {},
   "source": [
    "Now, train each model and evaluate it on validation data:"
   ]
  },
  {
   "cell_type": "code",
   "execution_count": 56,
   "metadata": {},
   "outputs": [
    {
     "name": "stdout",
     "output_type": "stream",
     "text": [
      "🤖 Logistic regression:\n",
      "ℹ️ Train: 0.847 ± 0.022\n",
      "🚨 Val: 0.704 ± 0.031\n",
      "\n",
      "🤖 SVM:\n",
      "ℹ️ Train: 0.343 ± 0.037\n",
      "🚨 Val: 0.335 ± 0.040\n",
      "\n",
      "🤖 KNN:\n",
      "ℹ️ Train: 0.826 ± 0.018\n",
      "🚨 Val: 0.578 ± 0.039\n",
      "\n",
      "🤖 Random forest:\n",
      "ℹ️ Train: 0.991 ± 0.003\n",
      "🚨 Val: 0.764 ± 0.036\n",
      "\n"
     ]
    }
   ],
   "source": [
    "# Define the dictionary to store the results\n",
    "results = dict()\n",
    "\n",
    "for model_name, model in models.items():\n",
    "\n",
    "    # Define the dictionary to store the results\n",
    "    results[model_name] = dict()\n",
    "\n",
    "    for subject in selected.keys():\n",
    "\n",
    "        # Get the data for training and evaluation\n",
    "        X_train, y_train, X_val, y_val, _, _ = selected[subject]\n",
    "\n",
    "        # Train the model\n",
    "        model.fit(X_train, y_train)\n",
    "\n",
    "        # Evaluate the model on training and validation data\n",
    "        y_train_pred = model.predict(X_train)\n",
    "        y_val_pred = model.predict(X_val)\n",
    "\n",
    "        # Compute the accuracy\n",
    "        train_acc = accuracy_score(y_train, y_train_pred)\n",
    "        val_acc = accuracy_score(y_val, y_val_pred)\n",
    "\n",
    "        # Store the results\n",
    "        results[model_name][subject] = {\n",
    "            \"train_pred\": y_train_pred,\n",
    "            \"train_acc\": train_acc,\n",
    "            \"val_pred\": y_val_pred,\n",
    "            \"val_acc\": val_acc\n",
    "        }\n",
    "\n",
    "        # Compute the feature importance for logistic regression\n",
    "        if model_name == \"Logistic regression\":\n",
    "            # Compute the feature importance\n",
    "            r = permutation_importance(model, X_val, y_val, n_repeats=30, random_state=42, scoring=\"accuracy\")\n",
    "\n",
    "            # Store the results\n",
    "            results[model_name][subject][\"importances_mean\"] = r.importances_mean\n",
    "            results[model_name][subject][\"importances_std\"] = r.importances_std\n",
    "    \n",
    "    # Compute the mean and std of the results\n",
    "    train_acc = np.array([results[model_name][subject][\"train_acc\"] for subject in selected.keys()])\n",
    "    val_acc = np.array([results[model_name][subject][\"val_acc\"] for subject in selected.keys()])\n",
    "\n",
    "    train_mean, train_std = train_acc.mean(), train_acc.std()\n",
    "    val_mean, val_std = val_acc.mean(), val_acc.std()\n",
    "\n",
    "    # Print the 95 % confidence interval\n",
    "    traincf = 1.96 * train_std / np.sqrt(len(selected.keys()))\n",
    "    valcf = 1.96 * val_std / np.sqrt(len(selected.keys()))\n",
    "    print(f\"🤖 {model_name}:\")\n",
    "    print(f\"ℹ️ Train: {train_mean:.3f} ± {traincf:.3f}\")\n",
    "    print(f\"🚨 Val: {val_mean:.3f} ± {valcf:.3f}\\n\")\n"
   ]
  },
  {
   "cell_type": "markdown",
   "metadata": {},
   "source": [
    "Now, let's collect the results into a dataframe:"
   ]
  },
  {
   "cell_type": "code",
   "execution_count": 57,
   "metadata": {},
   "outputs": [
    {
     "data": {
      "text/html": [
       "<div>\n",
       "<style scoped>\n",
       "    .dataframe tbody tr th:only-of-type {\n",
       "        vertical-align: middle;\n",
       "    }\n",
       "\n",
       "    .dataframe tbody tr th {\n",
       "        vertical-align: top;\n",
       "    }\n",
       "\n",
       "    .dataframe thead th {\n",
       "        text-align: right;\n",
       "    }\n",
       "</style>\n",
       "<table border=\"1\" class=\"dataframe\">\n",
       "  <thead>\n",
       "    <tr style=\"text-align: right;\">\n",
       "      <th></th>\n",
       "      <th>model</th>\n",
       "      <th>subject</th>\n",
       "      <th>train_acc</th>\n",
       "      <th>val_acc</th>\n",
       "    </tr>\n",
       "  </thead>\n",
       "  <tbody>\n",
       "    <tr>\n",
       "      <th>39</th>\n",
       "      <td>Random forest</td>\n",
       "      <td>25</td>\n",
       "      <td>0.987337</td>\n",
       "      <td>0.844549</td>\n",
       "    </tr>\n",
       "    <tr>\n",
       "      <th>36</th>\n",
       "      <td>Random forest</td>\n",
       "      <td>17</td>\n",
       "      <td>0.995874</td>\n",
       "      <td>0.842520</td>\n",
       "    </tr>\n",
       "    <tr>\n",
       "      <th>38</th>\n",
       "      <td>Random forest</td>\n",
       "      <td>13</td>\n",
       "      <td>0.999481</td>\n",
       "      <td>0.800926</td>\n",
       "    </tr>\n",
       "    <tr>\n",
       "      <th>6</th>\n",
       "      <td>Logistic regression</td>\n",
       "      <td>17</td>\n",
       "      <td>0.883445</td>\n",
       "      <td>0.790026</td>\n",
       "    </tr>\n",
       "    <tr>\n",
       "      <th>30</th>\n",
       "      <td>Random forest</td>\n",
       "      <td>9</td>\n",
       "      <td>0.983831</td>\n",
       "      <td>0.776253</td>\n",
       "    </tr>\n",
       "    <tr>\n",
       "      <th>35</th>\n",
       "      <td>Random forest</td>\n",
       "      <td>12</td>\n",
       "      <td>0.996324</td>\n",
       "      <td>0.774984</td>\n",
       "    </tr>\n",
       "    <tr>\n",
       "      <th>33</th>\n",
       "      <td>Random forest</td>\n",
       "      <td>22</td>\n",
       "      <td>0.989617</td>\n",
       "      <td>0.766548</td>\n",
       "    </tr>\n",
       "    <tr>\n",
       "      <th>32</th>\n",
       "      <td>Random forest</td>\n",
       "      <td>10</td>\n",
       "      <td>0.991275</td>\n",
       "      <td>0.761480</td>\n",
       "    </tr>\n",
       "    <tr>\n",
       "      <th>9</th>\n",
       "      <td>Logistic regression</td>\n",
       "      <td>25</td>\n",
       "      <td>0.841341</td>\n",
       "      <td>0.757739</td>\n",
       "    </tr>\n",
       "    <tr>\n",
       "      <th>8</th>\n",
       "      <td>Logistic regression</td>\n",
       "      <td>13</td>\n",
       "      <td>0.923157</td>\n",
       "      <td>0.757407</td>\n",
       "    </tr>\n",
       "  </tbody>\n",
       "</table>\n",
       "</div>"
      ],
      "text/plain": [
       "                  model subject  train_acc   val_acc\n",
       "39        Random forest      25   0.987337  0.844549\n",
       "36        Random forest      17   0.995874  0.842520\n",
       "38        Random forest      13   0.999481  0.800926\n",
       "6   Logistic regression      17   0.883445  0.790026\n",
       "30        Random forest       9   0.983831  0.776253\n",
       "35        Random forest      12   0.996324  0.774984\n",
       "33        Random forest      22   0.989617  0.766548\n",
       "32        Random forest      10   0.991275  0.761480\n",
       "9   Logistic regression      25   0.841341  0.757739\n",
       "8   Logistic regression      13   0.923157  0.757407"
      ]
     },
     "execution_count": 57,
     "metadata": {},
     "output_type": "execute_result"
    }
   ],
   "source": [
    "results_df = pd.DataFrame(columns=[\"model\", \"subject\", \"train_acc\", \"val_acc\"])\n",
    "\n",
    "for model_name, model in models.items():\n",
    "    for subject in selected.keys():\n",
    "        train_acc = results[model_name][subject][\"train_acc\"]\n",
    "        val_acc = results[model_name][subject][\"val_acc\"]\n",
    "\n",
    "        new_row = pd.DataFrame({\n",
    "            \"model\": model_name,\n",
    "            \"subject\": subject,\n",
    "            \"train_acc\": train_acc,\n",
    "            \"val_acc\": val_acc\n",
    "        }, columns=[\"model\", \"subject\", \"train_acc\", \"val_acc\"], index=[0])\n",
    "\n",
    "        results_df = pd.concat([results_df, new_row], ignore_index=True)\n",
    "\n",
    "results_df.sort_values(by=[\"val_acc\"], inplace=False, ascending=False).head(10)"
   ]
  },
  {
   "cell_type": "markdown",
   "metadata": {},
   "source": [
    "Some models definitely look promising! Clearly many of them overfit the data which is a matter of adjusting the regularization parameters. We will do that later. For now, let's dive into the details of evaluation of feauture importances. For that, we will use permutation importance [more details](https://scikit-learn.org/stable/modules/permutation_importance.html#permutation-importance). In simple terms, for given number of times `K`, we shuffle the value of a feature and then evaluate the model's performance. In our case, we use accuracy. The difference between the original accuracy and the accuracy after shuffling the feature is the importance of that feature. We do this for all the features. Finally, we average the importance of each feature over `K` iterations. This gives us the final importance of each feature. "
   ]
  },
  {
   "cell_type": "code",
   "execution_count": 67,
   "metadata": {},
   "outputs": [
    {
     "data": {
      "image/png": "[encoded data removed]",
      "text/plain": [
       "<Figure size 1000x500 with 2 Axes>"
      ]
     },
     "metadata": {},
     "output_type": "display_data"
    }
   ],
   "source": [
    "# Collect feature importances for all subjects\n",
    "importances = dict()\n",
    "for subject in selected.keys():\n",
    "    importances[subject] = results[\"Logistic regression\"][subject][\"importances_mean\"]\n",
    "\n",
    "# Turn the dictionary into a dataframe\n",
    "importances_df = pd.DataFrame(importances)\n",
    "assert importances_df.shape[1] == 10, \"❌ There should be 10 subjects.\"\n",
    "assert importances_df.shape[0] == 100, \"❌ There should be 100 features.\"\n",
    "\n",
    "# Compute correlation matrix accross subjects\n",
    "corr = importances_df.corr()\n",
    "\n",
    "# Plot the correlation matrix using seaborn\n",
    "fig, ax = plt.subplots(figsize=(10, 5))\n",
    "sns.heatmap(corr, annot=True, cmap=\"coolwarm\", ax=ax, vmin=-1, vmax=1, cbar_kws={'label': 'Correlation', 'orientation': 'horizontal'});\n",
    "\n",
    "# Make the ticks larger\n",
    "ax.set_xticklabels(ax.get_xticklabels(), fontsize=12);\n",
    "ax.set_yticklabels(ax.get_yticklabels(), fontsize=12);\n",
    "\n",
    "# Set the fontsize of colorbar label to 14\n",
    "cbar = ax.collections[0].colorbar\n",
    "cbar.ax.tick_params(labelsize=14)\n",
    "cbar.ax.set_xlabel(\"Correlation\", fontsize=14)\n",
    "\n",
    "# Set the labels\n",
    "ax.set_ylabel(\"Subject\", fontsize=14);\n",
    "\n",
    "# Save the figure\n",
    "fig.savefig(os.path.join(\"..\", \"figures\", \"corr_matrix.png\"), dpi=300, bbox_inches='tight')"
   ]
  },
  {
   "cell_type": "markdown",
   "metadata": {},
   "source": [
    "Now, let's plot the feature importances for each model using heatmap:"
   ]
  },
  {
   "cell_type": "code",
   "execution_count": 70,
   "metadata": {},
   "outputs": [
    {
     "data": {
      "image/png": "[encoded data removed]",
      "text/plain": [
       "<Figure size 1000x500 with 2 Axes>"
      ]
     },
     "metadata": {},
     "output_type": "display_data"
    }
   ],
   "source": [
    "# Setup the figure\n",
    "fig, ax = plt.subplots(figsize=(10, 5))\n",
    "sns.heatmap(data=importances_df.T, cmap=\"coolwarm\", ax=ax, cbar_kws={'label': 'Feature importance', 'orientation': 'horizontal'});\n",
    "\n",
    "# Reduce the number of xticks\n",
    "ax.set_xticks(np.arange(0, 105, 5));\n",
    "ax.set_xticklabels(np.arange(0, 105, 5));\n",
    "\n",
    "# Make the ticks larger\n",
    "ax.set_xticklabels(ax.get_xticklabels(), fontsize=12);\n",
    "ax.set_yticklabels(ax.get_yticklabels(), fontsize=12);\n",
    "\n",
    "# Set the fontsize of colorbar label to 14\n",
    "cbar = ax.collections[0].colorbar\n",
    "cbar.ax.tick_params(labelsize=14)\n",
    "cbar.ax.set_xlabel(\"Feature importance (Permutation Based)\", fontsize=14)\n",
    "\n",
    "# Set the labels\n",
    "ax.set_ylabel(\"Subject\", fontsize=14);\n",
    "\n",
    "# Save the figure\n",
    "fig.savefig(os.path.join(\"..\", \"figures\", \"feature_importance.png\"), dpi=300, bbox_inches=\"tight\")\n"
   ]
  },
  {
   "cell_type": "markdown",
   "metadata": {},
   "source": [
    "We can see that in general, first 50 features are most important accross all the subjects. Finally, we will use grid search to find the best hyperparameters for the model. Let's start by defining the models and hyper-parameters to grid search over:"
   ]
  },
  {
   "cell_type": "code",
   "execution_count": 12,
   "metadata": {},
   "outputs": [],
   "source": [
    "# Define models\n",
    "pipelines = {\n",
    "    \"lr\" : Pipeline([\n",
    "        ('scaler', StandardScaler()),\n",
    "        ('lr', SGDClassifier())\n",
    "    ]),\n",
    "    \"knn\" : Pipeline([\n",
    "        ('scaler', StandardScaler()),\n",
    "        ('knn', KNeighborsClassifier())\n",
    "    ]),\n",
    "    \"rf\" : Pipeline([\n",
    "        ('scaler', StandardScaler()),\n",
    "        ('rf', RandomForestClassifier())\n",
    "    ])\n",
    "}\n",
    "\n",
    "# Define hyperparameters\n",
    "hyperparameters = {\n",
    "    \"lr\" : {\n",
    "        \"lr__loss\" : [\"log\", \"hinge\"],\n",
    "        \"lr__penalty\" : [\"l1\", \"l2\"],\n",
    "        \"lr__alpha\" : [0.0001, 0.001, 0.01, 0.1],\n",
    "        \"lr__max_iter\" : [100, 200, 300, 400, 500]\n",
    "    },\n",
    "    \"knn\" : {\n",
    "        \"knn__n_neighbors\" : [1, 3, 5, 7, 9, 11, 13, 15],\n",
    "        \"knn__weights\" : [\"uniform\", \"distance\"],\n",
    "        \"knn__metric\" : [\"euclidean\", \"manhattan\"]\n",
    "    },\n",
    "    \"rf\" : {\n",
    "        \"rf__n_estimators\" : [100, 200, 300, 400, 500],\n",
    "        \"rf__max_depth\" : [1, 3, 5, 7, 9, 11, 13, 15],\n",
    "        \"rf__max_features\" : [\"auto\", \"sqrt\", \"log2\"]\n",
    "    }\n",
    "}"
   ]
  },
  {
   "cell_type": "markdown",
   "metadata": {},
   "source": [
    "Next, run the hyper-parameter tuning:"
   ]
  },
  {
   "cell_type": "code",
   "execution_count": 13,
   "metadata": {},
   "outputs": [],
   "source": [
    "path = os.path.join(DATA_ROOT, \"hyptun_analysis_p1.pkl\")\n",
    "\n",
    "# Load the finetuning results\n",
    "if os.path.exists(path):\n",
    "    with open(path, \"rb\") as f:\n",
    "        results_tuning = pickle.load(f)\n",
    "        selected_ids = list(set([k[0] for k in results_tuning.keys()]))\n",
    "        selected = dict()\n",
    "        for subject in selected_ids:\n",
    "             selected[subject] = subjects_features[subject]\n",
    "\n",
    "# Run the finetuning - takes around one hour\n",
    "else:\n",
    "    # Define the dictionary to store the results\n",
    "    results_tuning = dict()\n",
    "\n",
    "    # Loop over the models\n",
    "    for subject in tqdm(selected.keys()):\n",
    "\n",
    "        # Get the data for training and evaluation\n",
    "        X_train, y_train, X_val, y_val, _, _ = selected[subject]\n",
    "\n",
    "        # Concat the training and validation data\n",
    "        X = np.concatenate([X_train, X_val], axis=0)\n",
    "        y = np.concatenate([y_train, y_val], axis=0)\n",
    "\n",
    "        # Shuffle the data\n",
    "        X, y = shuffle(X, y, random_state=42)\n",
    "\n",
    "        for name, pipeline in pipelines.items():\n",
    "\n",
    "            # Grid search\n",
    "            grid_search = GridSearchCV(pipeline, hyperparameters[name], cv=5, scoring='accuracy', n_jobs=6)\n",
    "            grid_search.fit(X, y)\n",
    "\n",
    "            # Store the results\n",
    "            results_tuning[(subject, name)] = {\n",
    "                \"best_params\": grid_search.best_params_,\n",
    "                \"best_score\": grid_search.best_score_,\n",
    "                \"best_estimator\": grid_search.best_estimator_\n",
    "            }\n",
    "\n",
    "    # Save the results \n",
    "    with open(path, \"wb\") as f:\n",
    "        pickle.dump(results_tuning, f)"
   ]
  },
  {
   "cell_type": "markdown",
   "metadata": {},
   "source": [
    "Next, for each subject, select the best model, and compute the train, val and test accuracy:"
   ]
  },
  {
   "cell_type": "code",
   "execution_count": 26,
   "metadata": {},
   "outputs": [
    {
     "name": "stdout",
     "output_type": "stream",
     "text": [
      "🚀 Test: 0.817 ± 0.036\n",
      "\n"
     ]
    }
   ],
   "source": [
    "# Store the results for each split\n",
    "splits_results = {\"test\": []}\n",
    "\n",
    "for subject in selected.keys():\n",
    "\n",
    "    # Get the best model for the given subject\n",
    "    best_score = 0\n",
    "    best_model = None\n",
    "    for name in pipelines.keys():\n",
    "        score = results_tuning[(subject, name)][\"best_score\"]\n",
    "        if score > best_score:\n",
    "            best_score = score\n",
    "            best_model = results_tuning[(subject, name)][\"best_estimator\"]\n",
    "    \n",
    "    # Get the data for training and evaluation\n",
    "    _, _, _, _, X_test, y_test = selected[subject]\n",
    "\n",
    "    # Compute the accuracy\n",
    "    y_test_pred = best_model.predict(X_test)\n",
    "    test_acc = accuracy_score(y_test, y_test_pred)\n",
    "\n",
    "    # Store the results\n",
    "    splits_results[\"test\"].append(test_acc)\n",
    "\n",
    "# Compute the mean and std of the results\n",
    "test_acc = np.array(splits_results[\"test\"])\n",
    "test_mean, test_std = test_acc.mean(), test_acc.std()\n",
    "\n",
    "# Print the 95 % confidence interval\n",
    "testcf = 1.96 * test_std / np.sqrt(len(selected.keys()))\n",
    "\n",
    "print(f\"🚀 Test: {test_mean:.3f} ± {testcf:.3f}\\n\")\n"
   ]
  },
  {
   "cell_type": "markdown",
   "metadata": {},
   "source": [
    "Not the best generalisation going from 93 % to 82 %, but with the exhaustive grid search, we managed to improve the mean accuracy by `5 %` to `81 %`. Now, let's create a dataframe where in rows we will have the models and in columns will we have the cross validation accuracy and test accuracy:"
   ]
  },
  {
   "cell_type": "code",
   "execution_count": 30,
   "metadata": {},
   "outputs": [
    {
     "data": {
      "text/html": [
       "<div>\n",
       "<style scoped>\n",
       "    .dataframe tbody tr th:only-of-type {\n",
       "        vertical-align: middle;\n",
       "    }\n",
       "\n",
       "    .dataframe tbody tr th {\n",
       "        vertical-align: top;\n",
       "    }\n",
       "\n",
       "    .dataframe thead th {\n",
       "        text-align: right;\n",
       "    }\n",
       "</style>\n",
       "<table border=\"1\" class=\"dataframe\">\n",
       "  <thead>\n",
       "    <tr style=\"text-align: right;\">\n",
       "      <th></th>\n",
       "      <th>model</th>\n",
       "      <th>test_acc</th>\n",
       "      <th>testcf</th>\n",
       "    </tr>\n",
       "  </thead>\n",
       "  <tbody>\n",
       "    <tr>\n",
       "      <th>2</th>\n",
       "      <td>rf</td>\n",
       "      <td>0.817</td>\n",
       "      <td>0.036</td>\n",
       "    </tr>\n",
       "    <tr>\n",
       "      <th>0</th>\n",
       "      <td>lr</td>\n",
       "      <td>0.739</td>\n",
       "      <td>0.044</td>\n",
       "    </tr>\n",
       "    <tr>\n",
       "      <th>1</th>\n",
       "      <td>knn</td>\n",
       "      <td>0.657</td>\n",
       "      <td>0.050</td>\n",
       "    </tr>\n",
       "  </tbody>\n",
       "</table>\n",
       "</div>"
      ],
      "text/plain": [
       "  model  test_acc  testcf\n",
       "2    rf     0.817   0.036\n",
       "0    lr     0.739   0.044\n",
       "1   knn     0.657   0.050"
      ]
     },
     "execution_count": 30,
     "metadata": {},
     "output_type": "execute_result"
    }
   ],
   "source": [
    "model_results = {model_name: {\"test_acc\": []} for model_name in pipelines.keys()}\n",
    "\n",
    "for subject, model_name in results_tuning.keys():\n",
    "\n",
    "    # Get the tuning result\n",
    "    restun = results_tuning[(subject, model_name)]\n",
    "\n",
    "    # Get best score\n",
    "    best_score = restun[\"best_score\"]\n",
    "\n",
    "    # Get the testing data\n",
    "    _, _, _, _, X_test, y_test = selected[subject]\n",
    "\n",
    "    # Get the predictions\n",
    "    y_test_pred = restun[\"best_estimator\"].predict(X_test)\n",
    "\n",
    "    # Compute the accuracy\n",
    "    test_acc = accuracy_score(y_test, y_test_pred)\n",
    "\n",
    "    # Store the results\n",
    "    model_results[model_name][\"test_acc\"].append(test_acc)\n",
    "\n",
    "# Compute the mean and std of the results\n",
    "df_tune_results = pd.DataFrame(columns=[\"model\", \"test_acc\", \"testcf\"])\n",
    "for model_name in pipelines.keys():\n",
    "    test_acc = np.array(model_results[model_name][\"test_acc\"])\n",
    "\n",
    "    test_mean, test_std = test_acc.mean(), test_acc.std()\n",
    "\n",
    "    # Store the results\n",
    "    new_row = pd.DataFrame({\n",
    "        \"model\": model_name,\n",
    "        \"test_acc\": test_mean,\n",
    "        \"testcf\": 1.96 * test_std / np.sqrt(len(selected.keys())),\n",
    "    }, columns=[\"model\", \"test_acc\", \"testcf\"], index=[0])\n",
    "\n",
    "    df_tune_results = pd.concat([df_tune_results, new_row], ignore_index=True)\n",
    "\n",
    "# Round the results to 3 decimal places\n",
    "df_tune_results = df_tune_results.round(3)\n",
    "\n",
    "# Sort the results by test accuracy\n",
    "df_tune_results = df_tune_results.sort_values(by=[\"test_acc\"], inplace=False, ascending=False)\n",
    "\n",
    "df_tune_results"
   ]
  },
  {
   "cell_type": "markdown",
   "metadata": {},
   "source": [
    "Let's quickly explore the best params accross all the models:"
   ]
  },
  {
   "cell_type": "code",
   "execution_count": 16,
   "metadata": {},
   "outputs": [
    {
     "name": "stdout",
     "output_type": "stream",
     "text": [
      "🤖 KNN (most optimal setup): n_neighbors=2, weights=distance\n",
      "🤖 Logistic regression (most optimal setup): loss=hinge, penalty=l1, alpha=0.0001, max_iter=270\n",
      "🤖 Random forest (most optimal setup): max_depth=15, max_features=sqrt, n_estimators=310\n"
     ]
    }
   ],
   "source": [
    "best_params = {\n",
    "    \"rf\": {\"max_depth\": [], \"max_features\": [], \"n_estimators\": []},\n",
    "    \"knn\": {\"n_neighbors\": [], \"weights\": [], \"metric\": []},\n",
    "    \"lr\": {\"loss\": [], \"penalty\": [], \"alpha\": [], \"max_iter\": []},\n",
    "}\n",
    "\n",
    "for subject, model_name in results_tuning.keys():\n",
    "        # Get the tuning result\n",
    "        restun = results_tuning[(subject, model_name)]\n",
    "\n",
    "        # Get best params\n",
    "        s_best_params = restun[\"best_params\"]\n",
    "        \n",
    "        # Only focus on rf\n",
    "        if model_name == \"rf\":\n",
    "            best_params[\"rf\"][\"max_depth\"].append(s_best_params[\"rf__max_depth\"])\n",
    "            best_params[\"rf\"][\"max_features\"].append(s_best_params[\"rf__max_features\"])\n",
    "            best_params[\"rf\"][\"n_estimators\"].append(s_best_params[\"rf__n_estimators\"])\n",
    "\n",
    "        elif model_name == \"knn\": \n",
    "            best_params[\"knn\"][\"n_neighbors\"].append(s_best_params[\"knn__n_neighbors\"])\n",
    "            best_params[\"knn\"][\"weights\"].append(s_best_params[\"knn__weights\"])\n",
    "            best_params[\"knn\"][\"metric\"].append(s_best_params[\"knn__metric\"]) \n",
    "\n",
    "        elif model_name == \"lr\":\n",
    "            best_params[\"lr\"][\"loss\"].append(s_best_params[\"lr__loss\"])\n",
    "            best_params[\"lr\"][\"penalty\"].append(s_best_params[\"lr__penalty\"])\n",
    "            best_params[\"lr\"][\"alpha\"].append(s_best_params[\"lr__alpha\"])\n",
    "            best_params[\"lr\"][\"max_iter\"].append(s_best_params[\"lr__max_iter\"])\n",
    "\n",
    "# For each model, get a dataframe from dictionary\n",
    "df_best_params = dict()\n",
    "for model_name in pipelines.keys():\n",
    "    df_best_params[model_name] = pd.DataFrame(best_params[model_name])\n",
    "\n",
    "# Now, we can easily inspect the best parameters for each model\n",
    "# - KNN\n",
    "n_nbs = int(df_best_params[\"knn\"][\"n_neighbors\"].mean())\n",
    "weights = df_best_params[\"knn\"][\"weights\"].value_counts().index[0]\n",
    "print(f\"🤖 KNN (most optimal setup): n_neighbors={n_nbs}, weights={weights}\")\n",
    "\n",
    "# - Logistic regression\n",
    "loss = df_best_params[\"lr\"][\"loss\"].value_counts().index[0]\n",
    "penalty = df_best_params[\"lr\"][\"penalty\"].value_counts().index[0]\n",
    "alpha = df_best_params[\"lr\"][\"alpha\"].mean()\n",
    "max_iter = int(df_best_params[\"lr\"][\"max_iter\"].mean())\n",
    "print(f\"🤖 Logistic regression (most optimal setup): loss={loss}, penalty={penalty}, alpha={alpha}, max_iter={max_iter}\")\n",
    "\n",
    "# - Random forest\n",
    "max_depth = int(df_best_params[\"rf\"][\"max_depth\"].mean())\n",
    "max_features = df_best_params[\"rf\"][\"max_features\"].value_counts().index[0]\n",
    "n_estimators = int(df_best_params[\"rf\"][\"n_estimators\"].mean())\n",
    "print(f\"🤖 Random forest (most optimal setup): max_depth={max_depth}, max_features={max_features}, n_estimators={n_estimators}\")"
   ]
  },
  {
   "cell_type": "markdown",
   "metadata": {},
   "source": [
    "### General Model Building\n",
    "\n",
    "---\n",
    "\n",
    "In this section, we select `K` number of subjects and train the model on the data from these subjects. Then, we evaluate the model on the data from the remaining subjects. \n",
    "\n",
    "Let's start by defining the model to be trained:"
   ]
  },
  {
   "cell_type": "code",
   "execution_count": 17,
   "metadata": {},
   "outputs": [],
   "source": [
    "# - No Grid Search approach\n",
    "best_model = Pipeline([\n",
    "    ('scaler', StandardScaler()),\n",
    "    ('rf', RandomForestClassifier(max_depth=max_depth, max_features=max_features, n_estimators=n_estimators))\n",
    "])"
   ]
  },
  {
   "cell_type": "markdown",
   "metadata": {},
   "source": [
    "Next, let's start by choosing randomly `7` subjects to be in our held out test set. Later, we will train the models on the varying number of subjects where our `K` will be 2, 4, 6, 8, 10, 12, 14, 16, 18. To account for the randomness, we will repeat this process `10` times."
   ]
  },
  {
   "cell_type": "code",
   "execution_count": 18,
   "metadata": {},
   "outputs": [
    {
     "name": "stdout",
     "output_type": "stream",
     "text": [
      "ℹ️ Test set: 33127 samples, 100 features.\n",
      "ℹ️ We have 7 subjects in the test set and 20 are available for training.\n"
     ]
    }
   ],
   "source": [
    "# Get all subjects ids\n",
    "subject_ids = list(subjects_features.keys())\n",
    "\n",
    "# Set a seed value for reproducibility\n",
    "seed_value = 42\n",
    "np.random.seed(seed_value)\n",
    "\n",
    "# Randomly select 7 subjects\n",
    "test_subjects = np.random.choice(subject_ids, 7, replace=False)\n",
    "\n",
    "# Get the ids of the remaining subjects\n",
    "train_subjects = [s for s in subject_ids if s not in test_subjects]\n",
    "\n",
    "# Collect the data for the selected subjects\n",
    "X_test, y_test = utils.collect_subject_data(test_subjects, subjects_features)\n",
    "\n",
    "# Show the shape of the test set\n",
    "print(f\"ℹ️ Test set: {X_test.shape[0]} samples, {X_test.shape[1]} features.\")\n",
    "print(f\"ℹ️ We have {len(test_subjects)} subjects in the test set and {len(train_subjects)} are available for training.\")"
   ]
  },
  {
   "cell_type": "markdown",
   "metadata": {},
   "source": [
    "Next, let's train the model on the data from the remaining subjects and evaluate it on the test data:"
   ]
  },
  {
   "cell_type": "code",
   "execution_count": 71,
   "metadata": {},
   "outputs": [
    {
     "name": "stdout",
     "output_type": "stream",
     "text": [
      "🔁 Running for k=16...\n",
      "🔃 Running repetition 1...\n",
      "ℹ️ Training set: 76282 samples, 100 features.\n",
      "⏱️ Elapsed time: 93.72 seconds.\n",
      "\n",
      "🔃 Running repetition 2...\n",
      "ℹ️ Training set: 75762 samples, 100 features.\n",
      "⏱️ Elapsed time: 92.79 seconds.\n",
      "\n",
      "🔃 Running repetition 3...\n",
      "ℹ️ Training set: 75248 samples, 100 features.\n",
      "⏱️ Elapsed time: 100.16 seconds.\n",
      "\n",
      "🔃 Running repetition 4...\n",
      "ℹ️ Training set: 76047 samples, 100 features.\n",
      "⏱️ Elapsed time: 98.53 seconds.\n",
      "\n",
      "🔃 Running repetition 5...\n",
      "ℹ️ Training set: 75134 samples, 100 features.\n",
      "⏱️ Elapsed time: 96.72 seconds.\n",
      "\n",
      "🔁 Running for k=18...\n",
      "🔃 Running repetition 1...\n",
      "ℹ️ Training set: 85140 samples, 100 features.\n",
      "⏱️ Elapsed time: 110.09 seconds.\n",
      "\n",
      "🔃 Running repetition 2...\n",
      "ℹ️ Training set: 84532 samples, 100 features.\n",
      "⏱️ Elapsed time: 109.51 seconds.\n",
      "\n",
      "🔃 Running repetition 3...\n",
      "ℹ️ Training set: 83860 samples, 100 features.\n",
      "⏱️ Elapsed time: 109.13 seconds.\n",
      "\n",
      "🔃 Running repetition 4...\n",
      "ℹ️ Training set: 85493 samples, 100 features.\n",
      "⏱️ Elapsed time: 108.32 seconds.\n",
      "\n",
      "🔃 Running repetition 5...\n",
      "ℹ️ Training set: 85031 samples, 100 features.\n",
      "⏱️ Elapsed time: 106.77 seconds.\n",
      "\n",
      "🔁 Running for k=20...\n",
      "🔃 Running repetition 1...\n",
      "ℹ️ Training set: 94403 samples, 100 features.\n",
      "⏱️ Elapsed time: 119.79 seconds.\n",
      "\n",
      "🔃 Running repetition 2...\n",
      "ℹ️ Training set: 94403 samples, 100 features.\n",
      "⏱️ Elapsed time: 122.33 seconds.\n",
      "\n",
      "🔃 Running repetition 3...\n",
      "ℹ️ Training set: 94403 samples, 100 features.\n",
      "⏱️ Elapsed time: 118.96 seconds.\n",
      "\n",
      "🔃 Running repetition 4...\n",
      "ℹ️ Training set: 94403 samples, 100 features.\n",
      "⏱️ Elapsed time: 120.26 seconds.\n",
      "\n",
      "🔃 Running repetition 5...\n",
      "ℹ️ Training set: 94403 samples, 100 features.\n",
      "⏱️ Elapsed time: 125.86 seconds.\n",
      "\n"
     ]
    }
   ],
   "source": [
    "filename = \"p2_results_rep5_16_to_20.pkl\"\n",
    "if os.path.exists(os.path.join(DATA_ROOT, filename)):\n",
    "    with open(os.path.join(DATA_ROOT, filename), \"rb\") as f:\n",
    "        p2_results = pickle.load(f)\n",
    "else:\n",
    "    ks = [16, 18, 20]\n",
    "    nreps = 5 # Number of repetitions for each k\n",
    "\n",
    "    # Set a seed value for reproducibility\n",
    "    seed_value = 42\n",
    "    np.random.seed(seed_value)\n",
    "\n",
    "    # Define the dictionary to store the results\n",
    "    p2_results = dict()\n",
    "\n",
    "    for k in ks:\n",
    "        print(f\"🔁 Running for k={k}...\")\n",
    "        for rep in range(1, nreps + 1):\n",
    "            print(f\"🔃 Running repetition {rep}...\")\n",
    "            start_time = time.time()\n",
    "\n",
    "            # Select k subjects randomly\n",
    "            selected_subjects = np.random.choice(train_subjects, k, replace=False)\n",
    "\n",
    "            # Collect the data for the selected subjects\n",
    "            X_train, y_train = utils.collect_subject_data(selected_subjects, subjects_features)\n",
    "            print(f\"ℹ️ Training set: {X_train.shape[0]} samples, {X_train.shape[1]} features.\")\n",
    "\n",
    "            # Train the model\n",
    "            best_model.fit(X_train, y_train)\n",
    "\n",
    "            # Create a deep copy of the trained model\n",
    "            best_model_copy = copy.deepcopy(best_model)\n",
    "\n",
    "            # Compute the accuracy on test set\n",
    "            y_test_pred = best_model_copy.predict(X_test)\n",
    "            test_acc = accuracy_score(y_test, y_test_pred)\n",
    "\n",
    "            # Store the results\n",
    "            p2_results[(k, rep)] = {\n",
    "                \"best_params\": best_model_copy.get_params(deep=True),\n",
    "                \"best_estimator\": best_model_copy,\n",
    "                \"test_acc\": test_acc\n",
    "            }\n",
    "\n",
    "            end_time = time.time()\n",
    "            print(f\"⏱️ Elapsed time: {end_time - start_time:.2f} seconds.\\n\")\n",
    "\n",
    "    # Save the results\n",
    "    with open(os.path.join(DATA_ROOT, filename), \"wb\") as f:\n",
    "        pickle.dump(p2_results, f)"
   ]
  },
  {
   "cell_type": "markdown",
   "metadata": {},
   "source": [
    "Let's inspect the results:"
   ]
  },
  {
   "cell_type": "code",
   "execution_count": 25,
   "metadata": {},
   "outputs": [
    {
     "data": {
      "text/html": [
       "<div>\n",
       "<style scoped>\n",
       "    .dataframe tbody tr th:only-of-type {\n",
       "        vertical-align: middle;\n",
       "    }\n",
       "\n",
       "    .dataframe tbody tr th {\n",
       "        vertical-align: top;\n",
       "    }\n",
       "\n",
       "    .dataframe thead th {\n",
       "        text-align: right;\n",
       "    }\n",
       "</style>\n",
       "<table border=\"1\" class=\"dataframe\">\n",
       "  <thead>\n",
       "    <tr style=\"text-align: right;\">\n",
       "      <th></th>\n",
       "      <th>k</th>\n",
       "      <th>test_acc</th>\n",
       "      <th>testcf</th>\n",
       "    </tr>\n",
       "  </thead>\n",
       "  <tbody>\n",
       "    <tr>\n",
       "      <th>0</th>\n",
       "      <td>2</td>\n",
       "      <td>0.170</td>\n",
       "      <td>0.018</td>\n",
       "    </tr>\n",
       "    <tr>\n",
       "      <th>1</th>\n",
       "      <td>4</td>\n",
       "      <td>0.208</td>\n",
       "      <td>0.013</td>\n",
       "    </tr>\n",
       "    <tr>\n",
       "      <th>2</th>\n",
       "      <td>6</td>\n",
       "      <td>0.212</td>\n",
       "      <td>0.013</td>\n",
       "    </tr>\n",
       "    <tr>\n",
       "      <th>3</th>\n",
       "      <td>8</td>\n",
       "      <td>0.205</td>\n",
       "      <td>0.011</td>\n",
       "    </tr>\n",
       "  </tbody>\n",
       "</table>\n",
       "</div>"
      ],
      "text/plain": [
       "   k  test_acc  testcf\n",
       "0  2     0.170   0.018\n",
       "1  4     0.208   0.013\n",
       "2  6     0.212   0.013\n",
       "3  8     0.205   0.011"
      ]
     },
     "execution_count": 25,
     "metadata": {},
     "output_type": "execute_result"
    }
   ],
   "source": [
    "k_results = {k : {\"test_acc\": []} for k in ks}\n",
    "for k, rep in p2_results.keys():\n",
    "\n",
    "    # Get the results\n",
    "    res = p2_results[(k, rep)]\n",
    "\n",
    "    # Get val and test acc\n",
    "    test_acc = res[\"test_acc\"]\n",
    "\n",
    "    # Store the results\n",
    "    k_results[k][\"test_acc\"].append(test_acc)\n",
    "\n",
    "# Compute the mean and std of the results\n",
    "df_k_results = pd.DataFrame(columns=[\"k\", \"test_acc\", \"testcf\"])\n",
    "for k in ks:\n",
    "    test_acc = np.array(k_results[k][\"test_acc\"])\n",
    "\n",
    "    test_mean, test_std = test_acc.mean(), test_acc.std()\n",
    "\n",
    "    # Store the results\n",
    "    new_row = pd.DataFrame({\n",
    "        \"k\": k,\n",
    "        \"test_acc\": test_mean,\n",
    "        \"testcf\": 1.96 * test_std / np.sqrt(nreps),\n",
    "    }, columns=[\"k\", \"test_acc\", \"testcf\"], index=[0])\n",
    "\n",
    "    df_k_results = pd.concat([df_k_results, new_row], ignore_index=True)\n",
    "\n",
    "# Round the results to 3 decimal places\n",
    "df_k_results = df_k_results.round(3)\n",
    "\n",
    "df_k_results"
   ]
  },
  {
   "cell_type": "markdown",
   "metadata": {},
   "source": [
    "---"
   ]
  }
 ],
 "metadata": {
  "kernelspec": {
   "display_name": "emg-signal-movement-clf-5pn15elU-py3.10",
   "language": "python",
   "name": "python3"
  },
  "language_info": {
   "codemirror_mode": {
    "name": "ipython",
    "version": 3
   },
   "file_extension": ".py",
   "mimetype": "text/x-python",
   "name": "python",
   "nbconvert_exporter": "python",
   "pygments_lexer": "ipython3",
   "version": "3.10.13"
  }
 },
 "nbformat": 4,
 "nbformat_minor": 2
}
